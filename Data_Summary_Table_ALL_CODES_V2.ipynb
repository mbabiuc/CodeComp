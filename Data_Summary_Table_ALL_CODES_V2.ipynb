{
 "cells": [
  {
   "cell_type": "markdown",
   "id": "1ecbe14a",
   "metadata": {},
   "source": [
    "One Current issue with the current summary data table (V1) is that it includes $f_2$ values for runs for which we determined the f2 value was not accurately determined. I will fix this here with the lists stating which should be removed."
   ]
  },
  {
   "cell_type": "code",
   "execution_count": 1,
   "id": "037bc292",
   "metadata": {},
   "outputs": [],
   "source": [
    "import pandas as pd\n",
    "import numpy as np"
   ]
  },
  {
   "cell_type": "markdown",
   "id": "ed1d805c",
   "metadata": {},
   "source": [
    "## Import Summary Dataframe V1"
   ]
  },
  {
   "cell_type": "code",
   "execution_count": 2,
   "id": "99e0790b",
   "metadata": {
    "scrolled": true
   },
   "outputs": [
    {
     "name": "stdout",
     "output_type": "stream",
     "text": [
      "         Run Name   Code    Identifier   M_chirp            Λ  \\\n",
      "0    125H_073_253  SACRA  125H_107_146  1.085470  1335.000000   \n",
      "1    125H_080_252  SACRA  125H_112_140  1.088748  1332.000000   \n",
      "2    125H_073_274  SACRA  125H_116_158  1.175761   848.000000   \n",
      "3    125H_075_273  SACRA  125H_117_156  1.173691   837.000000   \n",
      "4    125H_076_273  SACRA  125H_118_155  1.175156   855.000000   \n",
      "..            ...    ...           ...       ...          ...   \n",
      "358   SLy_100_270    BAM       BAM0143  1.175672   390.186613   \n",
      "359   SLy_100_270    BAM       BAM0144  1.175672   390.195040   \n",
      "360   SLy_100_270    BAM       BAM0145  1.175672   390.190240   \n",
      "361   SLy_100_270    BAM       BAM0146  1.175672   390.200000   \n",
      "362   SLy_100_270    BAM       BAM0147  1.175680   390.186880   \n",
      "\n",
      "           fmrg,h [R01]        fmrg,h [R02]        fmrg,h [R03]  \\\n",
      "0    1.3155601892343458  1.3278391719613565  1.3209092827007065   \n",
      "1     1.406883074374398    1.41247012388443  1.4061680872895188   \n",
      "2     1.393459930506707   1.392638048391415  1.3923014508898517   \n",
      "3    1.4210762322880424  1.4154827816703406  1.4189547105344054   \n",
      "4    1.4405016410654734  1.4412109059542777  1.4360854404755754   \n",
      "..                  ...                 ...                 ...   \n",
      "358                   -                   -                   -   \n",
      "359                   -                   -                   -   \n",
      "360                   -                   -                   -   \n",
      "361                   -                   -                   -   \n",
      "362                   -                   -                   -   \n",
      "\n",
      "        fmrg,psi4 [R01]     fmrg,psi4 [R02]  ...       A_max,h [R03]  \\\n",
      "0    1.7528837479340973   1.769503257667598  ...  0.0401642466962603   \n",
      "1     1.902664882563004  1.9667136151945128  ...  0.0193926493172228   \n",
      "2    1.8708347318035052  1.8736547330265367  ...  0.0389949154268471   \n",
      "3    1.9569558861054053   1.863499477987057  ...  0.0100792355548425   \n",
      "4    1.9848330820399536  2.0146514565699154  ...  0.0017213959917768   \n",
      "..                  ...                 ...  ...                 ...   \n",
      "358                   -                   -  ...                   -   \n",
      "359                   -                   -  ...                   -   \n",
      "360                   -                   -  ...                   -   \n",
      "361                   -                   -  ...                   -   \n",
      "362                   -                   -  ...                   -   \n",
      "\n",
      "           A_max,psi4 [R01]        A_max,psi4 [R02]        A_max,psi4 [R03]  \\\n",
      "0     9.339813999641496e-07   7.920480584914946e-07    9.62939654625779e-07   \n",
      "1    1.3242278973358122e-06  1.4282269883972006e-06  1.3058789557252976e-06   \n",
      "2    1.3627720974802474e-06  1.3094633026514731e-06   1.294808049543692e-06   \n",
      "3    1.4835401465671392e-06  1.4437218749239003e-06  1.5262604196756231e-06   \n",
      "4    1.5507230319733887e-06  1.7378774451839694e-06  1.7709974682595008e-06   \n",
      "..                      ...                     ...                     ...   \n",
      "358                       -                       -                       -   \n",
      "359                       -                       -                       -   \n",
      "360                       -                       -                       -   \n",
      "361                       -                       -                       -   \n",
      "362                       -                       -                       -   \n",
      "\n",
      "         t_fmax,h [R01]      t_fmax,h [R02]      t_fmax,h [R03]  \\\n",
      "0    0.7578515430000081  0.7543512899999953  0.7599979709999971   \n",
      "1    0.7473458609999923  0.7478430840000101   0.742846238999995   \n",
      "2    0.7068246480000084  0.7036246979999987  0.7031865509999946   \n",
      "3    0.6955214400000074  0.6994352250000091  0.6959398949999951   \n",
      "4    0.6914796570000021  0.6839770050000027  0.6853505220000002   \n",
      "..                  ...                 ...                 ...   \n",
      "358                   -                   -                   -   \n",
      "359                   -                   -                   -   \n",
      "360                   -                   -                   -   \n",
      "361                   -                   -                   -   \n",
      "362                   -                   -                   -   \n",
      "\n",
      "      t_fmax,psi4 [R01]   t_fmax,psi4 [R02]   t_fmax,psi4 [R03]  \n",
      "0    0.4562144100000012  0.4604137290000025  0.5327424450000038  \n",
      "1    0.4081856219999906  0.3927815549999991  0.4898729609999961  \n",
      "2    0.4126950899999997  0.3953858220000015  0.4577159250000022  \n",
      "3    0.3976504019999964  0.4476385440000001  0.3836100059999978  \n",
      "4    0.4234715369999975  0.3374962649999986  0.3289203989999976  \n",
      "..                  ...                 ...                 ...  \n",
      "358                   -                   -                   -  \n",
      "359                   -                   -                   -  \n",
      "360                   -                   -                   -  \n",
      "361                   -                   -                   -  \n",
      "362                   -                   -                   -  \n",
      "\n",
      "[363 rows x 41 columns]\n"
     ]
    }
   ],
   "source": [
    "df = pd.read_csv('./Summary_Data/V1_All_Codes_Summary.txt', sep='\\t')\n",
    "print(df)"
   ]
  },
  {
   "cell_type": "markdown",
   "id": "d6ea7c9c",
   "metadata": {},
   "source": [
    "## Import $f_2$ Validity Lists"
   ]
  },
  {
   "cell_type": "code",
   "execution_count": 3,
   "id": "c6a4b51a",
   "metadata": {},
   "outputs": [
    {
     "name": "stdout",
     "output_type": "stream",
     "text": [
      "   Unnamed: 0                              no_f2_id\n",
      "0           0  Lev_130\\B_116_158_Trim_Freq_Time.txt\n",
      "1           1  Lev_130\\B_117_156_Trim_Freq_Time.txt\n",
      "2           2  Lev_130\\B_118_155_Trim_Freq_Time.txt\n",
      "3           3  Lev_130\\B_121_151_Trim_Freq_Time.txt\n",
      "4           4  Lev_130\\B_125_146_Trim_Freq_Time.txt\n"
     ]
    }
   ],
   "source": [
    "Bad_SACRA = pd.read_csv('./Groups/SACRA/no_f2_id_List.txt', sep='\\t')\n",
    "print(Bad_SACRA.head())"
   ]
  },
  {
   "cell_type": "markdown",
   "id": "a3d44dc6",
   "metadata": {},
   "source": [
    "Note that all of the SXS is excluded for the $f_2$ because there is not enough data in the postmerger to identify $f_2$."
   ]
  },
  {
   "cell_type": "code",
   "execution_count": 4,
   "id": "ecce822e",
   "metadata": {
    "scrolled": true
   },
   "outputs": [
    {
     "name": "stdout",
     "output_type": "stream",
     "text": [
      "   Unnamed: 0                                           outliers  \\\n",
      "0           0  ./Whisky_Catalog/Translated\\ALF2_1500_1500_Tri...   \n",
      "1           1  ./Whisky_Catalog/Translated\\APR4_1500_1500_Tri...   \n",
      "2           2  ./Whisky_Catalog/Translated\\GNH3_1500_1500_Tri...   \n",
      "3           3  ./Whisky_Catalog/Translated\\H4_1500_1500_Trim_...   \n",
      "4           4  ./Whisky_Catalog/Translated\\SLy_1375_1375_Trim...   \n",
      "\n",
      "                                       collapse  \n",
      "0  Translated/ALF2_1350_1350_Trim_Freq_Time.txt  \n",
      "1  Translated/ALF2_1375_1375_Trim_Freq_Time.txt  \n",
      "2  Translated/ALF2_1400_1400_Trim_Freq_Time.txt  \n",
      "3  Translated/GNH3_1350_1350_Trim_Freq_Time.txt  \n",
      "4  Translated/GNH3_1375_1375_Trim_Freq_Time.txt  \n"
     ]
    }
   ],
   "source": [
    "#List of outliers to exclude is in Wisky_exclude['outliers']\n",
    "Bad_Whisky = pd.read_csv('./Whisky_Catalog/Collapse/Collapse_List_Whisky.txt', sep='\\t')\n",
    "print(Bad_Whisky.head())"
   ]
  },
  {
   "cell_type": "code",
   "execution_count": 5,
   "id": "e101b4f0",
   "metadata": {},
   "outputs": [
    {
     "name": "stdout",
     "output_type": "stream",
     "text": [
      "   Unnamed: 0                                           no_f2_id\n",
      "0           0  ./THC_Catalog/Strain/Translated/R01\\THC0008_BH...\n",
      "1           1  ./THC_Catalog/Strain/Translated/R01\\THC0009_BH...\n",
      "2           2  ./THC_Catalog/Strain/Translated/R01\\THC0024_LS...\n",
      "3           3  ./THC_Catalog/Strain/Translated/R01\\THC0025_LS...\n",
      "4           4  ./THC_Catalog/Strain/Translated/R01\\THC0026_LS...\n"
     ]
    }
   ],
   "source": [
    "Bad_THC_h_Lev1 = pd.read_csv('./Groups/THC/Strain/R01/no_f2_id_List', sep='\\t')\n",
    "print(Bad_THC_h_Lev1.head())"
   ]
  },
  {
   "cell_type": "code",
   "execution_count": 6,
   "id": "c32c0f11",
   "metadata": {},
   "outputs": [
    {
     "name": "stdout",
     "output_type": "stream",
     "text": [
      "   Unnamed: 0 no_f2_id\n",
      "0           0  THC0028\n",
      "1           1  THC0039\n",
      "2           2  THC0044\n",
      "3           3  THC0045\n",
      "4           4  THC0046\n"
     ]
    }
   ],
   "source": [
    "Bad_THC_h_Lev2 = pd.read_csv('./Groups/THC/Strain/R02/no_f2_id_List', sep='\\t')\n",
    "print(Bad_THC_h_Lev2.head())"
   ]
  },
  {
   "cell_type": "code",
   "execution_count": 7,
   "id": "cba821a5",
   "metadata": {},
   "outputs": [
    {
     "name": "stdout",
     "output_type": "stream",
     "text": [
      "   Unnamed: 0 no_f2_id\n",
      "0           0  THC0019\n",
      "1           1  THC0028\n",
      "2           2  THC0030\n",
      "3           3  THC0037\n",
      "4           4  THC0039\n"
     ]
    }
   ],
   "source": [
    "Bad_THC_h_Lev3 = pd.read_csv('./Groups/THC/Strain/R03/no_f2_id_List', sep='\\t')\n",
    "print(Bad_THC_h_Lev3.head())"
   ]
  },
  {
   "cell_type": "code",
   "execution_count": 8,
   "id": "dba2f382",
   "metadata": {},
   "outputs": [
    {
     "name": "stdout",
     "output_type": "stream",
     "text": [
      "   Unnamed: 0 no_f2_id\n",
      "0           0  THC0008\n",
      "1           1  THC0009\n",
      "2           2  THC0024\n",
      "3           3  THC0025\n",
      "4           4  THC0026\n"
     ]
    }
   ],
   "source": [
    "Bad_THC_psi4_Lev1 = pd.read_csv('./Groups/THC/Psi4/R01/no_f2_id_List', sep='\\t')\n",
    "print(Bad_THC_psi4_Lev1.head())"
   ]
  },
  {
   "cell_type": "code",
   "execution_count": 9,
   "id": "b8c4c81c",
   "metadata": {},
   "outputs": [
    {
     "name": "stdout",
     "output_type": "stream",
     "text": [
      "   Unnamed: 0 no_f2_id\n",
      "0           0  THC0028\n",
      "1           1  THC0039\n",
      "2           2  THC0044\n",
      "3           3  THC0045\n",
      "4           4  THC0046\n"
     ]
    }
   ],
   "source": [
    "Bad_THC_psi4_Lev2 = pd.read_csv('./Groups/THC/Psi4/R02/no_f2_id_List', sep='\\t')\n",
    "print(Bad_THC_psi4_Lev2.head())"
   ]
  },
  {
   "cell_type": "code",
   "execution_count": 10,
   "id": "9557def1",
   "metadata": {},
   "outputs": [
    {
     "name": "stdout",
     "output_type": "stream",
     "text": [
      "   Unnamed: 0 no_f2_id\n",
      "0           0  THC0019\n",
      "1           1  THC0022\n",
      "2           2  THC0028\n",
      "3           3  THC0030\n",
      "4           4  THC0037\n"
     ]
    }
   ],
   "source": [
    "Bad_THC_psi4_Lev3 = pd.read_csv('./Groups/THC/Psi4/R03/no_f2_id_List', sep='\\t')\n",
    "print(Bad_THC_psi4_Lev3.head())"
   ]
  },
  {
   "cell_type": "code",
   "execution_count": 11,
   "id": "713418f4",
   "metadata": {
    "scrolled": true
   },
   "outputs": [
    {
     "name": "stdout",
     "output_type": "stream",
     "text": [
      "   Unnamed: 0                                           no_f2_id\n",
      "0           0  ./BAM_Catalog/Strain/Translated/R01\\BAM0001_2B...\n",
      "1           1  ./BAM_Catalog/Strain/Translated/R01\\BAM0003_AL...\n",
      "2           2  ./BAM_Catalog/Strain/Translated/R01\\BAM0011_AL...\n",
      "3           3  ./BAM_Catalog/Strain/Translated/R01\\BAM0016_AL...\n",
      "4           4  ./BAM_Catalog/Strain/Translated/R01\\BAM0026_G2...\n"
     ]
    }
   ],
   "source": [
    "Bad_BAM_h_Lev1 = pd.read_csv('./Groups/BAM/Strain/R01/no_f2_id_List', sep='\\t')\n",
    "print(Bad_BAM_h_Lev1.head())"
   ]
  },
  {
   "cell_type": "code",
   "execution_count": 12,
   "id": "e59794a1",
   "metadata": {},
   "outputs": [
    {
     "name": "stdout",
     "output_type": "stream",
     "text": [
      "   Unnamed: 0 no_f2_id\n",
      "0           0  BAM0001\n",
      "1           1  BAM0003\n",
      "2           2  BAM0011\n",
      "3           3  BAM0016\n",
      "4           4  BAM0026\n"
     ]
    }
   ],
   "source": [
    "Bad_BAM_h_Lev2 = pd.read_csv('./Groups/BAM/Strain/R02/no_f2_id_List', sep='\\t')\n",
    "print(Bad_BAM_h_Lev2.head())"
   ]
  },
  {
   "cell_type": "code",
   "execution_count": 13,
   "id": "34408142",
   "metadata": {},
   "outputs": [
    {
     "name": "stdout",
     "output_type": "stream",
     "text": [
      "   Unnamed: 0 no_f2_id\n",
      "0           0  BAM0001\n",
      "1           1  BAM0026\n",
      "2           2  BAM0037\n",
      "3           3  BAM0052\n",
      "4           4  BAM0095\n"
     ]
    }
   ],
   "source": [
    "Bad_BAM_h_Lev3 = pd.read_csv('./Groups/BAM/Strain/R03/no_f2_id_List', sep='\\t')\n",
    "print(Bad_BAM_h_Lev3.head())"
   ]
  },
  {
   "cell_type": "code",
   "execution_count": 14,
   "id": "1665f538",
   "metadata": {},
   "outputs": [
    {
     "name": "stdout",
     "output_type": "stream",
     "text": [
      "   Unnamed: 0 no_f2_id\n",
      "0           0  BAM0001\n",
      "1           1  BAM0003\n",
      "2           2  BAM0005\n",
      "3           3  BAM0011\n",
      "4           4  BAM0012\n"
     ]
    }
   ],
   "source": [
    "Bad_BAM_psi4_Lev1 = pd.read_csv('./Groups/BAM/Psi4/R01/no_f2_id_List', sep='\\t')\n",
    "print(Bad_BAM_psi4_Lev1.head())"
   ]
  },
  {
   "cell_type": "code",
   "execution_count": 15,
   "id": "d55abe83",
   "metadata": {},
   "outputs": [
    {
     "name": "stdout",
     "output_type": "stream",
     "text": [
      "   Unnamed: 0 no_f2_id\n",
      "0           0  BAM0001\n",
      "1           1  BAM0003\n",
      "2           2  BAM0005\n",
      "3           3  BAM0011\n",
      "4           4  BAM0012\n"
     ]
    }
   ],
   "source": [
    "Bad_BAM_psi4_Lev2 = pd.read_csv('./Groups/BAM/Psi4/R02/no_f2_id_List', sep='\\t')\n",
    "print(Bad_BAM_psi4_Lev2.head())"
   ]
  },
  {
   "cell_type": "code",
   "execution_count": 16,
   "id": "0a744d88",
   "metadata": {},
   "outputs": [
    {
     "name": "stdout",
     "output_type": "stream",
     "text": [
      "   Unnamed: 0 no_f2_id\n",
      "0           0  BAM0001\n",
      "1           1  BAM0026\n",
      "2           2  BAM0037\n",
      "3           3  BAM0052\n",
      "4           4  BAM0070\n"
     ]
    }
   ],
   "source": [
    "Bad_BAM_psi4_Lev3 = pd.read_csv('./Groups/BAM/Psi4/R03/no_f2_id_List', sep='\\t')\n",
    "print(Bad_BAM_psi4_Lev3.head())"
   ]
  },
  {
   "cell_type": "markdown",
   "id": "83490a54",
   "metadata": {},
   "source": [
    "## Remove Bad  $f_2$ Data"
   ]
  },
  {
   "cell_type": "code",
   "execution_count": 17,
   "id": "82326557",
   "metadata": {},
   "outputs": [
    {
     "name": "stdout",
     "output_type": "stream",
     "text": [
      "Skipped: 20 , B_116_158 , Lev_130\\B_116_158_Trim_Freq_Time.txt\n",
      "Skipped: 21 , B_117_156 , Lev_130\\B_117_156_Trim_Freq_Time.txt\n",
      "Skipped: 22 , B_118_155 , Lev_130\\B_118_155_Trim_Freq_Time.txt\n",
      "Skipped: 23 , B_121_151 , Lev_130\\B_121_151_Trim_Freq_Time.txt\n",
      "Skipped: 25 , B_125_146 , Lev_130\\B_125_146_Trim_Freq_Time.txt\n",
      "Skipped: 26 , B_135_135 , Lev_130\\B_135_135_Trim_Freq_Time.txt\n"
     ]
    }
   ],
   "source": [
    "for i in range(len(df['Identifier'])):\n",
    "    \n",
    "    for j in range(len(Bad_SACRA['no_f2_id'])):\n",
    "        \n",
    "        if df['Identifier'][i] in Bad_SACRA['no_f2_id'][j] and df['Code'][i] == 'SACRA':\n",
    "            \n",
    "            df.loc[i,'f2,h [R01]'] = '-'\n",
    "            df.loc[i,'f2,h [R02]'] = '-'\n",
    "            df.loc[i,'f2,h [R03]'] = '-'\n",
    "            df.loc[i,'f2,psi4 [R01]'] = '-'\n",
    "            df.loc[i,'f2,psi4 [R02]'] = '-'\n",
    "            df.loc[i,'f2,psi4 [R03]'] = '-'\n",
    "            print('Skipped:', i, ',', df['Identifier'][i], ',', Bad_SACRA['no_f2_id'][j])"
   ]
  },
  {
   "cell_type": "code",
   "execution_count": 18,
   "id": "c2b97cc7",
   "metadata": {},
   "outputs": [
    {
     "name": "stdout",
     "output_type": "stream",
     "text": [
      "-\n"
     ]
    }
   ],
   "source": [
    "#Test\n",
    "print(df['f2,h [R01]'][22])"
   ]
  },
  {
   "cell_type": "code",
   "execution_count": 19,
   "id": "2983a701",
   "metadata": {
    "scrolled": true
   },
   "outputs": [
    {
     "name": "stdout",
     "output_type": "stream",
     "text": [
      "Skipped: 116 , THC0008 , ./THC_Catalog/Strain/Translated/R01\\THC0008_BHBlp_150_150_Trim_Freq_Time.txt\n",
      "Skipped: 117 , THC0009 , ./THC_Catalog/Strain/Translated/R01\\THC0009_BHBlp_160_160_Trim_Freq_Time.txt\n",
      "Skipped: 132 , THC0024 , ./THC_Catalog/Strain/Translated/R01\\THC0024_LS220_145_145_Trim_Freq_Time.txt\n",
      "Skipped: 133 , THC0025 , ./THC_Catalog/Strain/Translated/R01\\THC0025_LS220_150_150_Trim_Freq_Time.txt\n",
      "Skipped: 134 , THC0026 , ./THC_Catalog/Strain/Translated/R01\\THC0026_LS220_160_160_Trim_Freq_Time.txt\n",
      "Skipped: 135 , THC0027 , ./THC_Catalog/Strain/Translated/R01\\THC0027_LS220_171_171_Trim_Freq_Time.txt\n",
      "Skipped: 136 , THC0028 , ./THC_Catalog/Strain/Translated/R01\\THC0028_MS1b_135_135_Trim_Freq_Time.txt\n",
      "Skipped: 141 , THC0033 , ./THC_Catalog/Strain/Translated/R01\\THC0033_SFHo_140_140_Trim_Freq_Time.txt\n",
      "Skipped: 142 , THC0034 , ./THC_Catalog/Strain/Translated/R01\\THC0034_SFHo_144_139_Trim_Freq_Time.txt\n",
      "Skipped: 143 , THC0035 , ./THC_Catalog/Strain/Translated/R01\\THC0035_SFHo_146_146_Trim_Freq_Time.txt\n",
      "Skipped: 144 , THC0036 , ./THC_Catalog/Strain/Translated/R01\\THC0036_SLy_135_135_Trim_Freq_Time.txt\n",
      "Skipped: 147 , THC0039 , ./THC_Catalog/Strain/Translated/R01\\THC0039_BLh_1856_1020_Trim_Freq_Time.txt\n",
      "Skipped: 152 , THC0044 , ./THC_Catalog/Strain/Translated/R01\\THC0044_BLh_1437_1914_Trim_Freq_Time.txt\n",
      "Skipped: 153 , THC0045 , ./THC_Catalog/Strain/Translated/R01\\THC0045_BLh_1527_1795_Trim_Freq_Time.txt\n",
      "Skipped: 154 , THC0046 , ./THC_Catalog/Strain/Translated/R01\\THC0046_BLh_1654_1654_Trim_Freq_Time.txt\n",
      "Skipped: 155 , THC0047 , ./THC_Catalog/Strain/Translated/R01\\THC0047_DD2_1437_1914_Trim_Freq_Time.txt\n",
      "Skipped: 156 , THC0048 , ./THC_Catalog/Strain/Translated/R01\\THC0048_DD2_1654_1654_Trim_Freq_Time.txt\n",
      "Skipped: 157 , THC0049 , ./THC_Catalog/Strain/Translated/R01\\THC0049_SFHo_1527_1795_Trim_Freq_Time.txt\n",
      "Skipped: 158 , THC0050 , ./THC_Catalog/Strain/Translated/R01\\THC0050_SLy_1437_1914_Trim_Freq_Time.txt\n",
      "Skipped: 159 , THC0051 , ./THC_Catalog/Strain/Translated/R01\\THC0051_SLy_1654_1654_Trim_Freq_Time.txt\n",
      "Skipped: 166 , THC0058 , ./THC_Catalog/Strain/Translated/R01\\THC0058_BLQ_1364_1364_Trim_Freq_Time.txt\n",
      "Skipped: 167 , THC0059 , ./THC_Catalog/Strain/Translated/R01\\THC0059_BLQ_140_140_Trim_Freq_Time.txt\n",
      "Skipped: 168 , THC0060 , ./THC_Catalog/Strain/Translated/R01\\THC0060_BLQ_145_145_Trim_Freq_Time.txt\n",
      "Skipped: 169 , THC0061 , ./THC_Catalog/Strain/Translated/R01\\THC0061_BLQ_1482_1259_Trim_Freq_Time.txt\n",
      "Skipped: 170 , THC0062 , ./THC_Catalog/Strain/Translated/R01\\THC0062_BLQ_160_160_Trim_Freq_Time.txt\n",
      "Skipped: 175 , THC0067 , ./THC_Catalog/Strain/Translated/R01\\THC0067_BLQ_1475_1475_Trim_Freq_Time.txt\n",
      "Skipped: 176 , THC0068 , ./THC_Catalog/Strain/Translated/R01\\THC0068_BLQ_150_150_Trim_Freq_Time.txt\n",
      "Skipped: 177 , THC0069 , ./THC_Catalog/Strain/Translated/R01\\THC0069_BLQ_1856_1020_Trim_Freq_Time.txt\n",
      "Skipped: 178 , THC0070 , ./THC_Catalog/Strain/Translated/R01\\THC0070_BLh_1557_1750_Trim_Freq_Time.txt\n",
      "Skipped: 179 , THC0071 , ./THC_Catalog/Strain/Translated/R01\\THC0071_DD2_1289_2149_Trim_Freq_Time.txt\n",
      "Skipped: 180 , THC0072 , ./THC_Catalog/Strain/Translated/R01\\THC0072_DD2_1527_1795_Trim_Freq_Time.txt\n",
      "Skipped: 181 , THC0073 , ./THC_Catalog/Strain/Translated/R01\\THC0073_SFHo_1437_1914_Trim_Freq_Time.txt\n",
      "Skipped: 182 , THC0074 , ./THC_Catalog/Strain/Translated/R01\\THC0074_SFHo_1654_1654_Trim_Freq_Time.txt\n",
      "Skipped: 183 , THC0075 , ./THC_Catalog/Strain/Translated/R01\\THC0075_SLy_1527_1795_Trim_Freq_Time.txt\n",
      "Skipped: 186 , THC0078 , ./THC_Catalog/Strain/Translated/R01\\THC0078_BLh_1856_1020_Trim_Freq_Time.txt\n",
      "Skipped: 191 , THC0083 , ./THC_Catalog/Strain/Translated/R01\\THC0083_LS220_1635_1114_Trim_Freq_Time.txt\n",
      "Skipped: 192 , THC0084 , ./THC_Catalog/Strain/Translated/R01\\THC0084_LS220_1772_1065_Trim_Freq_Time.txt\n",
      "Skipped: 193 , THC0085 , ./THC_Catalog/Strain/Translated/R01\\THC0085_LS220_1772_1065_Trim_Freq_Time.txt\n",
      "Skipped: 194 , THC0086 , ./THC_Catalog/Strain/Translated/R01\\THC0086_SFHo_1772_1065_Trim_Freq_Time.txt\n",
      "Skipped: 196 , THC0088 , ./THC_Catalog/Strain/Translated/R01\\THC0088_SFHo_1364_1364_Trim_Freq_Time.txt\n",
      "Skipped: 198 , THC0090 , ./THC_Catalog/Strain/Translated/R01\\THC0090_SFHo_1452_1283_Trim_Freq_Time.txt\n",
      "Skipped: 200 , THC0092 , ./THC_Catalog/Strain/Translated/R01\\THC0092_SFHo_1635_1146_Trim_Freq_Time.txt\n",
      "Skipped: 202 , THC0094 , ./THC_Catalog/Strain/Translated/R01\\THC0094_SLy4_1364_1364_Trim_Freq_Time.txt\n",
      "Skipped: 205 , THC0097 , ./THC_Catalog/Strain/Translated/R01\\THC0097_SLy4_1772_1065_Trim_Freq_Time.txt\n",
      "Skipped: 206 , THC0098 , ./THC_Catalog/Strain/Translated/R01\\THC0098_SLy4_1856_1020_Trim_Freq_Time.txt\n",
      "Skipped: 212 , THC0104 , ./THC_Catalog/Strain/Translated/R01\\THC0104_BLh_1475_1475_Trim_Freq_Time.txt\n",
      "Skipped: 214 , THC0106 , ./THC_Catalog/Strain/Translated/R01\\THC0106_BLh_150_150_Trim_Freq_Time.txt\n",
      "Skipped: 215 , THC0107 , ./THC_Catalog/Strain/Translated/R01\\THC0107_BLh_160_160_Trim_Freq_Time.txt\n"
     ]
    }
   ],
   "source": [
    "for i in range(len(df['Identifier'])):\n",
    "    \n",
    "    for j in range(len(Bad_THC_h_Lev1['no_f2_id'])):\n",
    "        \n",
    "        if df['Identifier'][i] in Bad_THC_h_Lev1['no_f2_id'][j] and df['Code'][i] == 'THC':\n",
    "            \n",
    "            df.loc[i,'f2,h [R01]'] = '-'\n",
    "            print('Skipped:', i, ',', df['Identifier'][i], ',', Bad_THC_h_Lev1['no_f2_id'][j])"
   ]
  },
  {
   "cell_type": "code",
   "execution_count": 20,
   "id": "d4ae8a59",
   "metadata": {},
   "outputs": [
    {
     "name": "stdout",
     "output_type": "stream",
     "text": [
      "Skipped: 136 , THC0028 , THC0028\n",
      "Skipped: 147 , THC0039 , THC0039\n",
      "Skipped: 152 , THC0044 , THC0044\n",
      "Skipped: 153 , THC0045 , THC0045\n",
      "Skipped: 154 , THC0046 , THC0046\n",
      "Skipped: 155 , THC0047 , THC0047\n",
      "Skipped: 156 , THC0048 , THC0048\n",
      "Skipped: 157 , THC0049 , THC0049\n",
      "Skipped: 158 , THC0050 , THC0050\n",
      "Skipped: 159 , THC0051 , THC0051\n",
      "Skipped: 160 , THC0052 , THC0052\n",
      "Skipped: 167 , THC0059 , THC0059\n",
      "Skipped: 168 , THC0060 , THC0060\n",
      "Skipped: 169 , THC0061 , THC0061\n",
      "Skipped: 170 , THC0062 , THC0062\n",
      "Skipped: 175 , THC0067 , THC0067\n",
      "Skipped: 176 , THC0068 , THC0068\n",
      "Skipped: 177 , THC0069 , THC0069\n",
      "Skipped: 178 , THC0070 , THC0070\n",
      "Skipped: 179 , THC0071 , THC0071\n",
      "Skipped: 180 , THC0072 , THC0072\n",
      "Skipped: 181 , THC0073 , THC0073\n",
      "Skipped: 182 , THC0074 , THC0074\n",
      "Skipped: 183 , THC0075 , THC0075\n",
      "Skipped: 186 , THC0078 , THC0078\n",
      "Skipped: 192 , THC0084 , THC0084\n",
      "Skipped: 193 , THC0085 , THC0085\n",
      "Skipped: 194 , THC0086 , THC0086\n",
      "Skipped: 196 , THC0088 , THC0088\n",
      "Skipped: 197 , THC0089 , THC0089\n",
      "Skipped: 201 , THC0093 , THC0093\n",
      "Skipped: 202 , THC0094 , THC0094\n",
      "Skipped: 205 , THC0097 , THC0097\n",
      "Skipped: 211 , THC0103 , THC0103\n",
      "Skipped: 212 , THC0104 , THC0104\n",
      "Skipped: 214 , THC0106 , THC0106\n",
      "Skipped: 215 , THC0107 , THC0107\n"
     ]
    }
   ],
   "source": [
    "for i in range(len(df['Identifier'])):\n",
    "    \n",
    "    for j in range(len(Bad_THC_h_Lev2['no_f2_id'])):\n",
    "        \n",
    "        if df['Identifier'][i] in Bad_THC_h_Lev2['no_f2_id'][j] and df['Code'][i] == 'THC':\n",
    "            \n",
    "            df.loc[i,'f2,h [R02]'] = '-'\n",
    "            print('Skipped:', i, ',', df['Identifier'][i], ',', Bad_THC_h_Lev2['no_f2_id'][j])"
   ]
  },
  {
   "cell_type": "code",
   "execution_count": 21,
   "id": "7ee47c60",
   "metadata": {},
   "outputs": [
    {
     "name": "stdout",
     "output_type": "stream",
     "text": [
      "Skipped: 127 , THC0019 , THC0019\n",
      "Skipped: 136 , THC0028 , THC0028\n",
      "Skipped: 138 , THC0030 , THC0030\n",
      "Skipped: 145 , THC0037 , THC0037\n",
      "Skipped: 147 , THC0039 , THC0039\n",
      "Skipped: 186 , THC0078 , THC0078\n",
      "Skipped: 196 , THC0088 , THC0088\n",
      "Skipped: 197 , THC0089 , THC0089\n"
     ]
    }
   ],
   "source": [
    "for i in range(len(df['Identifier'])):\n",
    "    \n",
    "    for j in range(len(Bad_THC_h_Lev3['no_f2_id'])):\n",
    "        \n",
    "        if df['Identifier'][i] in Bad_THC_h_Lev3['no_f2_id'][j] and df['Code'][i] == 'THC':\n",
    "            \n",
    "            df.loc[i,'f2,h [R03]'] = '-'\n",
    "            print('Skipped:', i, ',', df['Identifier'][i], ',', Bad_THC_h_Lev3['no_f2_id'][j])"
   ]
  },
  {
   "cell_type": "code",
   "execution_count": 22,
   "id": "dfb60a2d",
   "metadata": {},
   "outputs": [
    {
     "name": "stdout",
     "output_type": "stream",
     "text": [
      "Skipped: 116 , THC0008 , THC0008\n",
      "Skipped: 117 , THC0009 , THC0009\n",
      "Skipped: 132 , THC0024 , THC0024\n",
      "Skipped: 133 , THC0025 , THC0025\n",
      "Skipped: 134 , THC0026 , THC0026\n",
      "Skipped: 135 , THC0027 , THC0027\n",
      "Skipped: 136 , THC0028 , THC0028\n",
      "Skipped: 141 , THC0033 , THC0033\n",
      "Skipped: 142 , THC0034 , THC0034\n",
      "Skipped: 143 , THC0035 , THC0035\n",
      "Skipped: 144 , THC0036 , THC0036\n",
      "Skipped: 147 , THC0039 , THC0039\n",
      "Skipped: 152 , THC0044 , THC0044\n",
      "Skipped: 153 , THC0045 , THC0045\n",
      "Skipped: 154 , THC0046 , THC0046\n",
      "Skipped: 155 , THC0047 , THC0047\n",
      "Skipped: 156 , THC0048 , THC0048\n",
      "Skipped: 157 , THC0049 , THC0049\n",
      "Skipped: 158 , THC0050 , THC0050\n",
      "Skipped: 159 , THC0051 , THC0051\n",
      "Skipped: 166 , THC0058 , THC0058\n",
      "Skipped: 167 , THC0059 , THC0059\n",
      "Skipped: 168 , THC0060 , THC0060\n",
      "Skipped: 169 , THC0061 , THC0061\n",
      "Skipped: 170 , THC0062 , THC0062\n",
      "Skipped: 175 , THC0067 , THC0067\n",
      "Skipped: 176 , THC0068 , THC0068\n",
      "Skipped: 177 , THC0069 , THC0069\n",
      "Skipped: 178 , THC0070 , THC0070\n",
      "Skipped: 179 , THC0071 , THC0071\n",
      "Skipped: 180 , THC0072 , THC0072\n",
      "Skipped: 181 , THC0073 , THC0073\n",
      "Skipped: 182 , THC0074 , THC0074\n",
      "Skipped: 183 , THC0075 , THC0075\n",
      "Skipped: 184 , THC0076 , THC0076\n",
      "Skipped: 186 , THC0078 , THC0078\n",
      "Skipped: 192 , THC0084 , THC0084\n",
      "Skipped: 193 , THC0085 , THC0085\n",
      "Skipped: 194 , THC0086 , THC0086\n",
      "Skipped: 196 , THC0088 , THC0088\n",
      "Skipped: 198 , THC0090 , THC0090\n",
      "Skipped: 200 , THC0092 , THC0092\n",
      "Skipped: 202 , THC0094 , THC0094\n",
      "Skipped: 205 , THC0097 , THC0097\n",
      "Skipped: 206 , THC0098 , THC0098\n",
      "Skipped: 212 , THC0104 , THC0104\n",
      "Skipped: 214 , THC0106 , THC0106\n",
      "Skipped: 215 , THC0107 , THC0107\n"
     ]
    }
   ],
   "source": [
    "for i in range(len(df['Identifier'])):\n",
    "    \n",
    "    for j in range(len(Bad_THC_psi4_Lev1['no_f2_id'])):\n",
    "        \n",
    "        if df['Identifier'][i] in Bad_THC_psi4_Lev1['no_f2_id'][j] and df['Code'][i] == 'THC':\n",
    "            \n",
    "            df.loc[i,'f2,psi4 [R01]'] = '-'\n",
    "            print('Skipped:', i, ',', df['Identifier'][i], ',', Bad_THC_psi4_Lev1['no_f2_id'][j])"
   ]
  },
  {
   "cell_type": "code",
   "execution_count": 23,
   "id": "179609f3",
   "metadata": {},
   "outputs": [
    {
     "name": "stdout",
     "output_type": "stream",
     "text": [
      "Skipped: 136 , THC0028 , THC0028\n",
      "Skipped: 147 , THC0039 , THC0039\n",
      "Skipped: 152 , THC0044 , THC0044\n",
      "Skipped: 153 , THC0045 , THC0045\n",
      "Skipped: 154 , THC0046 , THC0046\n",
      "Skipped: 155 , THC0047 , THC0047\n",
      "Skipped: 156 , THC0048 , THC0048\n",
      "Skipped: 157 , THC0049 , THC0049\n",
      "Skipped: 158 , THC0050 , THC0050\n",
      "Skipped: 159 , THC0051 , THC0051\n",
      "Skipped: 160 , THC0052 , THC0052\n",
      "Skipped: 163 , THC0055 , THC0055\n",
      "Skipped: 166 , THC0058 , THC0058\n",
      "Skipped: 167 , THC0059 , THC0059\n",
      "Skipped: 168 , THC0060 , THC0060\n",
      "Skipped: 169 , THC0061 , THC0061\n",
      "Skipped: 170 , THC0062 , THC0062\n",
      "Skipped: 175 , THC0067 , THC0067\n",
      "Skipped: 176 , THC0068 , THC0068\n",
      "Skipped: 177 , THC0069 , THC0069\n",
      "Skipped: 178 , THC0070 , THC0070\n",
      "Skipped: 179 , THC0071 , THC0071\n",
      "Skipped: 180 , THC0072 , THC0072\n",
      "Skipped: 181 , THC0073 , THC0073\n",
      "Skipped: 182 , THC0074 , THC0074\n",
      "Skipped: 183 , THC0075 , THC0075\n",
      "Skipped: 186 , THC0078 , THC0078\n",
      "Skipped: 192 , THC0084 , THC0084\n",
      "Skipped: 193 , THC0085 , THC0085\n",
      "Skipped: 194 , THC0086 , THC0086\n",
      "Skipped: 196 , THC0088 , THC0088\n",
      "Skipped: 197 , THC0089 , THC0089\n",
      "Skipped: 201 , THC0093 , THC0093\n",
      "Skipped: 202 , THC0094 , THC0094\n",
      "Skipped: 205 , THC0097 , THC0097\n",
      "Skipped: 211 , THC0103 , THC0103\n",
      "Skipped: 212 , THC0104 , THC0104\n",
      "Skipped: 214 , THC0106 , THC0106\n",
      "Skipped: 215 , THC0107 , THC0107\n"
     ]
    }
   ],
   "source": [
    "for i in range(len(df['Identifier'])):\n",
    "    \n",
    "    for j in range(len(Bad_THC_psi4_Lev2['no_f2_id'])):\n",
    "        \n",
    "        if df['Identifier'][i] in Bad_THC_psi4_Lev2['no_f2_id'][j] and df['Code'][i] == 'THC':\n",
    "            \n",
    "            df.loc[i,'f2,psi4 [R02]'] = '-'\n",
    "            print('Skipped:', i, ',', df['Identifier'][i], ',', Bad_THC_psi4_Lev2['no_f2_id'][j])"
   ]
  },
  {
   "cell_type": "code",
   "execution_count": 24,
   "id": "1e6b97e1",
   "metadata": {},
   "outputs": [
    {
     "name": "stdout",
     "output_type": "stream",
     "text": [
      "Skipped: 127 , THC0019 , THC0019\n",
      "Skipped: 130 , THC0022 , THC0022\n",
      "Skipped: 136 , THC0028 , THC0028\n",
      "Skipped: 138 , THC0030 , THC0030\n",
      "Skipped: 145 , THC0037 , THC0037\n",
      "Skipped: 147 , THC0039 , THC0039\n",
      "Skipped: 186 , THC0078 , THC0078\n",
      "Skipped: 196 , THC0088 , THC0088\n",
      "Skipped: 197 , THC0089 , THC0089\n",
      "Skipped: 198 , THC0090 , THC0090\n"
     ]
    }
   ],
   "source": [
    "for i in range(len(df['Identifier'])):\n",
    "    \n",
    "    for j in range(len(Bad_THC_psi4_Lev3['no_f2_id'])):\n",
    "        \n",
    "        if df['Identifier'][i] in Bad_THC_psi4_Lev3['no_f2_id'][j] and df['Code'][i] == 'THC':\n",
    "            \n",
    "            df.loc[i,'f2,psi4 [R03]'] = '-'\n",
    "            print('Skipped:', i, ',', df['Identifier'][i], ',', Bad_THC_psi4_Lev3['no_f2_id'][j])"
   ]
  },
  {
   "cell_type": "code",
   "execution_count": 25,
   "id": "bdf53de0",
   "metadata": {},
   "outputs": [
    {
     "name": "stdout",
     "output_type": "stream",
     "text": [
      "-\n"
     ]
    }
   ],
   "source": [
    "#Test\n",
    "print(df['f2,h [R01]'][178])"
   ]
  },
  {
   "cell_type": "code",
   "execution_count": 26,
   "id": "d8ad587e",
   "metadata": {
    "scrolled": true
   },
   "outputs": [
    {
     "name": "stdout",
     "output_type": "stream",
     "text": [
      "Skipped: 216 , BAM0001 , ./BAM_Catalog/Strain/Translated/R01\\BAM0001_2B_1350_1350_r850_Trim_Freq_Time.txt\n",
      "Skipped: 218 , BAM0003 , ./BAM_Catalog/Strain/Translated/R01\\BAM0003_ALF2_1350_1350_r900_Trim_Freq_Time.txt\n",
      "Skipped: 226 , BAM0011 , ./BAM_Catalog/Strain/Translated/R01\\BAM0011_ALF2_1500_1500_r800_Trim_Freq_Time.txt\n",
      "Skipped: 231 , BAM0016 , ./BAM_Catalog/Strain/Translated/R01\\BAM0016_ALF2_1600_1600_r1000_Trim_Freq_Time.txt\n",
      "Skipped: 241 , BAM0026 , ./BAM_Catalog/Strain/Translated/R01\\BAM0026_G2_1515_1515_r400_Trim_Freq_Time.txt\n",
      "Skipped: 242 , BAM0027 , ./BAM_Catalog/Strain/Translated/R01\\BAM0027_G2_1515_1515_r400_Trim_Freq_Time.txt\n",
      "Skipped: 247 , BAM0032 , ./BAM_Catalog/Strain/Translated/R01\\BAM0032_G2k123_1515_1515_r400_Trim_Freq_Time.txt\n",
      "Skipped: 250 , BAM0035 , ./BAM_Catalog/Strain/Translated/R01\\BAM0035_H4_1350_1350_r900_Trim_Freq_Time.txt\n",
      "Skipped: 252 , BAM0037 , ./BAM_Catalog/Strain/Translated/R01\\BAM0037_H4_1372_1372_r1000_Trim_Freq_Time.txt\n",
      "Skipped: 262 , BAM0047 , ./BAM_Catalog/Strain/Translated/R01\\BAM0047_H4_1500_1500_r1000_Trim_Freq_Time.txt\n",
      "Skipped: 267 , BAM0052 , ./BAM_Catalog/Strain/Translated/R01\\BAM0052_H4_1600_1600_r1000_Trim_Freq_Time.txt\n",
      "Skipped: 273 , BAM0058 , ./BAM_Catalog/Strain/Translated/R01\\BAM0058_MPA1_1350_1350_r900_Trim_Freq_Time.txt\n",
      "Skipped: 275 , BAM0060 , ./BAM_Catalog/Strain/Translated/R01\\BAM0060_MS1_1350_1350_r900_Trim_Freq_Time.txt\n",
      "Skipped: 278 , BAM0063 , ./BAM_Catalog/Strain/Translated/R01\\BAM0063_MS1b_1350_1350_r1000_Trim_Freq_Time.txt\n",
      "Skipped: 279 , BAM0064 , ./BAM_Catalog/Strain/Translated/R01\\BAM0064_MS1b_1350_1350_r1400_Trim_Freq_Time.txt\n",
      "Skipped: 302 , BAM0087 , ./BAM_Catalog/Strain/Translated/R01\\BAM0087_MS1b_1500_1000_r1000_Trim_Freq_Time.txt\n",
      "Skipped: 310 , BAM0095 , ./BAM_Catalog/Strain/Translated/R01\\BAM0095_SLy_1350_1350_r1000_Trim_Freq_Time.txt\n",
      "Skipped: 311 , BAM0096 , ./BAM_Catalog/Strain/Translated/R01\\BAM0096_SLy_1350_1350_r1000_Trim_Freq_Time.txt\n",
      "Skipped: 312 , BAM0097 , ./BAM_Catalog/Strain/Translated/R01\\BAM0097_SLy_1350_1350_r1000_Trim_Freq_Time.txt\n",
      "Skipped: 313 , BAM0098 , ./BAM_Catalog/Strain/Translated/R01\\BAM0098_SLy_1350_1350_r1000_Trim_Freq_Time.txt\n",
      "Skipped: 314 , BAM0099 , ./BAM_Catalog/Strain/Translated/R01\\BAM0099_SLy_1350_1350_r650_Trim_Freq_Time.txt\n",
      "Skipped: 315 , BAM0100 , ./BAM_Catalog/Strain/Translated/R01\\BAM0100_SLy_1350_1350_r600_Trim_Freq_Time.txt\n",
      "Skipped: 318 , BAM0103 , ./BAM_Catalog/Strain/Translated/R01\\BAM0103_SLy_1351_1351_r1000_Trim_Freq_Time.txt\n",
      "Skipped: 335 , BAM0120 , ./BAM_Catalog/Strain/Translated/R01\\BAM0120_SLy_1375_1375_r1000_Trim_Freq_Time.txt\n",
      "Skipped: 336 , BAM0121 , ./BAM_Catalog/Strain/Translated/R01\\BAM0121_SLy_1400_1100_r1000_Trim_Freq_Time.txt\n",
      "Skipped: 337 , BAM0122 , ./BAM_Catalog/Strain/Translated/R01\\BAM0122_SLy_1400_1200_r1000_Trim_Freq_Time.txt\n",
      "Skipped: 340 , BAM0125 , ./BAM_Catalog/Strain/Translated/R01\\BAM0125_SLy_1500_1500_r1000_Trim_Freq_Time.txt\n",
      "Skipped: 345 , BAM0130 , ./BAM_Catalog/Strain/Translated/R01\\BAM0130_SLy_1800_0900_r900_Trim_Freq_Time.txt\n",
      "Skipped: 346 , BAM0131 , ./BAM_Catalog/Strain/Translated/R01\\BAM0131_SLy_1718_0982_r900_Trim_Freq_Time.txt\n",
      "Skipped: 351 , BAM0136 , ./BAM_Catalog/Strain/Translated/R01\\BAM0136_SLy_1620_1080_r900_Trim_Freq_Time.txt\n",
      "Skipped: 352 , BAM0137 , ./BAM_Catalog/Strain/Translated/R01\\BAM0137_SLy_1500_1200_r900_Trim_Freq_Time.txt\n",
      "Skipped: 353 , BAM0138 , ./BAM_Catalog/Strain/Translated/R01\\BAM0138_MPA1_1744_1570_r900_Trim_Freq_Time.txt\n",
      "Skipped: 354 , BAM0139 , ./BAM_Catalog/Strain/Translated/R01\\BAM0139_MPA1_1852_1481_r900_Trim_Freq_Time.txt\n",
      "Skipped: 355 , BAM0140 , ./BAM_Catalog/Strain/Translated/R01\\BAM0140_MPA1_1655_1655_r900_Trim_Freq_Time.txt\n"
     ]
    }
   ],
   "source": [
    "for i in range(len(df['Identifier'])):\n",
    "    \n",
    "    for j in range(len(Bad_BAM_h_Lev1['no_f2_id'])):\n",
    "        \n",
    "        if df['Identifier'][i] in Bad_BAM_h_Lev1['no_f2_id'][j] and df['Code'][i] == 'BAM':\n",
    "            \n",
    "            df.loc[i,'f2,h [R01]'] = '-'\n",
    "            print('Skipped:', i, ',', df['Identifier'][i], ',', Bad_BAM_h_Lev1['no_f2_id'][j])"
   ]
  },
  {
   "cell_type": "code",
   "execution_count": 27,
   "id": "772991f9",
   "metadata": {},
   "outputs": [
    {
     "name": "stdout",
     "output_type": "stream",
     "text": [
      "Skipped: 216 , BAM0001 , BAM0001\n",
      "Skipped: 218 , BAM0003 , BAM0003\n",
      "Skipped: 226 , BAM0011 , BAM0011\n",
      "Skipped: 231 , BAM0016 , BAM0016\n",
      "Skipped: 241 , BAM0026 , BAM0026\n",
      "Skipped: 250 , BAM0035 , BAM0035\n",
      "Skipped: 251 , BAM0036 , BAM0036\n",
      "Skipped: 257 , BAM0042 , BAM0042\n",
      "Skipped: 262 , BAM0047 , BAM0047\n",
      "Skipped: 267 , BAM0052 , BAM0052\n",
      "Skipped: 273 , BAM0058 , BAM0058\n",
      "Skipped: 280 , BAM0065 , BAM0065\n",
      "Skipped: 305 , BAM0090 , BAM0090\n",
      "Skipped: 307 , BAM0092 , BAM0092\n",
      "Skipped: 310 , BAM0095 , BAM0095\n",
      "Skipped: 311 , BAM0096 , BAM0096\n",
      "Skipped: 312 , BAM0097 , BAM0097\n",
      "Skipped: 314 , BAM0099 , BAM0099\n",
      "Skipped: 315 , BAM0100 , BAM0100\n",
      "Skipped: 318 , BAM0103 , BAM0103\n",
      "Skipped: 322 , BAM0107 , BAM0107\n",
      "Skipped: 340 , BAM0125 , BAM0125\n",
      "Skipped: 345 , BAM0130 , BAM0130\n",
      "Skipped: 346 , BAM0131 , BAM0131\n",
      "Skipped: 351 , BAM0136 , BAM0136\n",
      "Skipped: 352 , BAM0137 , BAM0137\n",
      "Skipped: 353 , BAM0138 , BAM0138\n",
      "Skipped: 354 , BAM0139 , BAM0139\n",
      "Skipped: 355 , BAM0140 , BAM0140\n"
     ]
    }
   ],
   "source": [
    "for i in range(len(df['Identifier'])):\n",
    "    \n",
    "    for j in range(len(Bad_BAM_h_Lev2['no_f2_id'])):\n",
    "        \n",
    "        if df['Identifier'][i] in Bad_BAM_h_Lev2['no_f2_id'][j] and df['Code'][i] == 'BAM':\n",
    "            \n",
    "            df.loc[i,'f2,h [R02]'] = '-'\n",
    "            print('Skipped:', i, ',', df['Identifier'][i], ',', Bad_BAM_h_Lev2['no_f2_id'][j])"
   ]
  },
  {
   "cell_type": "code",
   "execution_count": 28,
   "id": "2858e054",
   "metadata": {},
   "outputs": [
    {
     "name": "stdout",
     "output_type": "stream",
     "text": [
      "Skipped: 216 , BAM0001 , BAM0001\n",
      "Skipped: 241 , BAM0026 , BAM0026\n",
      "Skipped: 252 , BAM0037 , BAM0037\n",
      "Skipped: 267 , BAM0052 , BAM0052\n",
      "Skipped: 310 , BAM0095 , BAM0095\n",
      "Skipped: 312 , BAM0097 , BAM0097\n",
      "Skipped: 314 , BAM0099 , BAM0099\n",
      "Skipped: 315 , BAM0100 , BAM0100\n",
      "Skipped: 335 , BAM0120 , BAM0120\n",
      "Skipped: 345 , BAM0130 , BAM0130\n",
      "Skipped: 346 , BAM0131 , BAM0131\n",
      "Skipped: 347 , BAM0132 , BAM0132\n",
      "Skipped: 351 , BAM0136 , BAM0136\n",
      "Skipped: 352 , BAM0137 , BAM0137\n",
      "Skipped: 353 , BAM0138 , BAM0138\n",
      "Skipped: 354 , BAM0139 , BAM0139\n",
      "Skipped: 355 , BAM0140 , BAM0140\n"
     ]
    }
   ],
   "source": [
    "for i in range(len(df['Identifier'])):\n",
    "    \n",
    "    for j in range(len(Bad_BAM_h_Lev3['no_f2_id'])):\n",
    "        \n",
    "        if df['Identifier'][i] in Bad_BAM_h_Lev3['no_f2_id'][j] and df['Code'][i] == 'BAM':\n",
    "            \n",
    "            df.loc[i,'f2,h [R03]'] = '-'\n",
    "            print('Skipped:', i, ',', df['Identifier'][i], ',', Bad_BAM_h_Lev3['no_f2_id'][j])"
   ]
  },
  {
   "cell_type": "code",
   "execution_count": 29,
   "id": "98cac7fb",
   "metadata": {},
   "outputs": [
    {
     "name": "stdout",
     "output_type": "stream",
     "text": [
      "Skipped: 216 , BAM0001 , BAM0001\n",
      "Skipped: 218 , BAM0003 , BAM0003\n",
      "Skipped: 220 , BAM0005 , BAM0005\n",
      "Skipped: 226 , BAM0011 , BAM0011\n",
      "Skipped: 227 , BAM0012 , BAM0012\n",
      "Skipped: 231 , BAM0016 , BAM0016\n",
      "Skipped: 232 , BAM0017 , BAM0017\n",
      "Skipped: 236 , BAM0021 , BAM0021\n",
      "Skipped: 241 , BAM0026 , BAM0026\n",
      "Skipped: 242 , BAM0027 , BAM0027\n",
      "Skipped: 247 , BAM0032 , BAM0032\n",
      "Skipped: 250 , BAM0035 , BAM0035\n",
      "Skipped: 252 , BAM0037 , BAM0037\n",
      "Skipped: 257 , BAM0042 , BAM0042\n",
      "Skipped: 262 , BAM0047 , BAM0047\n",
      "Skipped: 267 , BAM0052 , BAM0052\n",
      "Skipped: 273 , BAM0058 , BAM0058\n",
      "Skipped: 275 , BAM0060 , BAM0060\n",
      "Skipped: 278 , BAM0063 , BAM0063\n",
      "Skipped: 279 , BAM0064 , BAM0064\n",
      "Skipped: 302 , BAM0087 , BAM0087\n",
      "Skipped: 309 , BAM0094 , BAM0094\n",
      "Skipped: 310 , BAM0095 , BAM0095\n",
      "Skipped: 311 , BAM0096 , BAM0096\n",
      "Skipped: 312 , BAM0097 , BAM0097\n",
      "Skipped: 313 , BAM0098 , BAM0098\n",
      "Skipped: 314 , BAM0099 , BAM0099\n",
      "Skipped: 315 , BAM0100 , BAM0100\n",
      "Skipped: 318 , BAM0103 , BAM0103\n",
      "Skipped: 322 , BAM0107 , BAM0107\n",
      "Skipped: 335 , BAM0120 , BAM0120\n",
      "Skipped: 336 , BAM0121 , BAM0121\n",
      "Skipped: 337 , BAM0122 , BAM0122\n",
      "Skipped: 340 , BAM0125 , BAM0125\n",
      "Skipped: 345 , BAM0130 , BAM0130\n",
      "Skipped: 346 , BAM0131 , BAM0131\n",
      "Skipped: 351 , BAM0136 , BAM0136\n",
      "Skipped: 352 , BAM0137 , BAM0137\n",
      "Skipped: 353 , BAM0138 , BAM0138\n",
      "Skipped: 354 , BAM0139 , BAM0139\n",
      "Skipped: 355 , BAM0140 , BAM0140\n"
     ]
    }
   ],
   "source": [
    "for i in range(len(df['Identifier'])):\n",
    "    \n",
    "    for j in range(len(Bad_BAM_psi4_Lev1['no_f2_id'])):\n",
    "        \n",
    "        if df['Identifier'][i] in Bad_BAM_psi4_Lev1['no_f2_id'][j] and df['Code'][i] == 'BAM':\n",
    "            \n",
    "            df.loc[i,'f2,psi4 [R01]'] = '-'\n",
    "            print('Skipped:', i, ',', df['Identifier'][i], ',', Bad_BAM_psi4_Lev1['no_f2_id'][j])"
   ]
  },
  {
   "cell_type": "code",
   "execution_count": 30,
   "id": "11ddca34",
   "metadata": {},
   "outputs": [
    {
     "name": "stdout",
     "output_type": "stream",
     "text": [
      "Skipped: 216 , BAM0001 , BAM0001\n",
      "Skipped: 218 , BAM0003 , BAM0003\n",
      "Skipped: 220 , BAM0005 , BAM0005\n",
      "Skipped: 226 , BAM0011 , BAM0011\n",
      "Skipped: 227 , BAM0012 , BAM0012\n",
      "Skipped: 231 , BAM0016 , BAM0016\n",
      "Skipped: 232 , BAM0017 , BAM0017\n",
      "Skipped: 241 , BAM0026 , BAM0026\n",
      "Skipped: 250 , BAM0035 , BAM0035\n",
      "Skipped: 252 , BAM0037 , BAM0037\n",
      "Skipped: 257 , BAM0042 , BAM0042\n",
      "Skipped: 262 , BAM0047 , BAM0047\n",
      "Skipped: 267 , BAM0052 , BAM0052\n",
      "Skipped: 268 , BAM0053 , BAM0053\n",
      "Skipped: 273 , BAM0058 , BAM0058\n",
      "Skipped: 280 , BAM0065 , BAM0065\n",
      "Skipped: 305 , BAM0090 , BAM0090\n",
      "Skipped: 310 , BAM0095 , BAM0095\n",
      "Skipped: 311 , BAM0096 , BAM0096\n",
      "Skipped: 312 , BAM0097 , BAM0097\n",
      "Skipped: 314 , BAM0099 , BAM0099\n",
      "Skipped: 315 , BAM0100 , BAM0100\n",
      "Skipped: 318 , BAM0103 , BAM0103\n",
      "Skipped: 322 , BAM0107 , BAM0107\n",
      "Skipped: 340 , BAM0125 , BAM0125\n",
      "Skipped: 345 , BAM0130 , BAM0130\n",
      "Skipped: 346 , BAM0131 , BAM0131\n",
      "Skipped: 351 , BAM0136 , BAM0136\n",
      "Skipped: 352 , BAM0137 , BAM0137\n",
      "Skipped: 353 , BAM0138 , BAM0138\n",
      "Skipped: 354 , BAM0139 , BAM0139\n",
      "Skipped: 355 , BAM0140 , BAM0140\n"
     ]
    }
   ],
   "source": [
    "for i in range(len(df['Identifier'])):\n",
    "    \n",
    "    for j in range(len(Bad_BAM_psi4_Lev2['no_f2_id'])):\n",
    "        \n",
    "        if df['Identifier'][i] in Bad_BAM_psi4_Lev2['no_f2_id'][j] and df['Code'][i] == 'BAM':\n",
    "            \n",
    "            df.loc[i,'f2,psi4 [R02]'] = '-'\n",
    "            print('Skipped:', i, ',', df['Identifier'][i], ',', Bad_BAM_psi4_Lev2['no_f2_id'][j])"
   ]
  },
  {
   "cell_type": "code",
   "execution_count": 31,
   "id": "caf0afb2",
   "metadata": {},
   "outputs": [
    {
     "name": "stdout",
     "output_type": "stream",
     "text": [
      "Skipped: 216 , BAM0001 , BAM0001\n",
      "Skipped: 241 , BAM0026 , BAM0026\n",
      "Skipped: 252 , BAM0037 , BAM0037\n",
      "Skipped: 267 , BAM0052 , BAM0052\n",
      "Skipped: 285 , BAM0070 , BAM0070\n",
      "Skipped: 296 , BAM0081 , BAM0081\n",
      "Skipped: 303 , BAM0088 , BAM0088\n",
      "Skipped: 310 , BAM0095 , BAM0095\n",
      "Skipped: 312 , BAM0097 , BAM0097\n",
      "Skipped: 314 , BAM0099 , BAM0099\n",
      "Skipped: 315 , BAM0100 , BAM0100\n",
      "Skipped: 322 , BAM0107 , BAM0107\n",
      "Skipped: 335 , BAM0120 , BAM0120\n",
      "Skipped: 345 , BAM0130 , BAM0130\n",
      "Skipped: 346 , BAM0131 , BAM0131\n",
      "Skipped: 347 , BAM0132 , BAM0132\n",
      "Skipped: 351 , BAM0136 , BAM0136\n",
      "Skipped: 352 , BAM0137 , BAM0137\n",
      "Skipped: 353 , BAM0138 , BAM0138\n",
      "Skipped: 354 , BAM0139 , BAM0139\n",
      "Skipped: 355 , BAM0140 , BAM0140\n"
     ]
    }
   ],
   "source": [
    "for i in range(len(df['Identifier'])):\n",
    "    \n",
    "    for j in range(len(Bad_BAM_psi4_Lev3['no_f2_id'])):\n",
    "        \n",
    "        if df['Identifier'][i] in Bad_BAM_psi4_Lev3['no_f2_id'][j] and df['Code'][i] == 'BAM':\n",
    "            \n",
    "            df.loc[i,'f2,psi4 [R03]'] = '-'\n",
    "            print('Skipped:', i, ',', df['Identifier'][i], ',', Bad_BAM_psi4_Lev3['no_f2_id'][j])"
   ]
  },
  {
   "cell_type": "code",
   "execution_count": 32,
   "id": "ff9646bb",
   "metadata": {},
   "outputs": [
    {
     "name": "stdout",
     "output_type": "stream",
     "text": [
      "-\n"
     ]
    }
   ],
   "source": [
    "#Test\n",
    "print(df['f2,h [R01]'][351])"
   ]
  },
  {
   "cell_type": "code",
   "execution_count": 33,
   "id": "a309e300",
   "metadata": {},
   "outputs": [
    {
     "name": "stdout",
     "output_type": "stream",
     "text": [
      "Skipped: 61 , ALF2_1500_1500 , ./Whisky_Catalog/Translated\\ALF2_1500_1500_Trim_Freq_Time.txt\n",
      "Skipped: 70 , APR4_1500_1500 , ./Whisky_Catalog/Translated\\APR4_1500_1500_Trim_Freq_Time.txt\n",
      "Skipped: 86 , GNH3_1500_1500 , ./Whisky_Catalog/Translated\\GNH3_1500_1500_Trim_Freq_Time.txt\n",
      "Skipped: 96 , H4_1500_1500 , ./Whisky_Catalog/Translated\\H4_1500_1500_Trim_Freq_Time.txt\n",
      "Skipped: 106 , SLy_1375_1375 , ./Whisky_Catalog/Translated\\SLy_1375_1375_Trim_Freq_Time.txt\n",
      "Skipped: 107 , SLy_1400_1400 , ./Whisky_Catalog/Translated\\SLy_1400_1400_Trim_Freq_Time.txt\n",
      "Skipped: 108 , SLy_1500_1500 , ./Whisky_Catalog/Translated\\SLy_1500_1500_Trim_Freq_Time.txt\n"
     ]
    }
   ],
   "source": [
    "for i in range(len(df['Identifier'])):\n",
    "    \n",
    "    for j in range(len(Bad_Whisky['outliers'])):\n",
    "        \n",
    "        if df['Identifier'][i] in Bad_Whisky['outliers'][j] and df['Code'][i] == 'Whisky':\n",
    "            \n",
    "            df.loc[i,'f2,h [R01]'] = '-'\n",
    "            df.loc[i,'f2,h [R02]'] = '-'\n",
    "            df.loc[i,'f2,h [R03]'] = '-'\n",
    "            df.loc[i,'f2,psi4 [R01]'] = '-'\n",
    "            df.loc[i,'f2,psi4 [R02]'] = '-'\n",
    "            df.loc[i,'f2,psi4 [R03]'] = '-'\n",
    "            print('Skipped:', i, ',', df['Identifier'][i], ',', Bad_Whisky['outliers'][j])"
   ]
  },
  {
   "cell_type": "code",
   "execution_count": 34,
   "id": "dfefab72",
   "metadata": {},
   "outputs": [
    {
     "name": "stdout",
     "output_type": "stream",
     "text": [
      "-\n"
     ]
    }
   ],
   "source": [
    "#Test\n",
    "print(df['f2,h [R01]'][96])"
   ]
  },
  {
   "cell_type": "markdown",
   "id": "ce106efb",
   "metadata": {},
   "source": [
    "## Save to CSV and Excel"
   ]
  },
  {
   "cell_type": "code",
   "execution_count": 35,
   "id": "f86cd7e4",
   "metadata": {},
   "outputs": [],
   "source": [
    "df.to_csv('./Summary_Data/V2_All_Codes_Summary.txt', sep='\\t', index=False)"
   ]
  },
  {
   "cell_type": "code",
   "execution_count": 36,
   "id": "48cb3361",
   "metadata": {},
   "outputs": [
    {
     "name": "stdout",
     "output_type": "stream",
     "text": [
      "         Run Name   Code    Identifier   M_chirp            Λ  \\\n",
      "0    125H_073_253  SACRA  125H_107_146  1.085470  1335.000000   \n",
      "1    125H_080_252  SACRA  125H_112_140  1.088748  1332.000000   \n",
      "2    125H_073_274  SACRA  125H_116_158  1.175761   848.000000   \n",
      "3    125H_075_273  SACRA  125H_117_156  1.173691   837.000000   \n",
      "4    125H_076_273  SACRA  125H_118_155  1.175156   855.000000   \n",
      "..            ...    ...           ...       ...          ...   \n",
      "358   SLy_100_270    BAM       BAM0143  1.175672   390.186613   \n",
      "359   SLy_100_270    BAM       BAM0144  1.175672   390.195040   \n",
      "360   SLy_100_270    BAM       BAM0145  1.175672   390.190240   \n",
      "361   SLy_100_270    BAM       BAM0146  1.175672   390.200000   \n",
      "362   SLy_100_270    BAM       BAM0147  1.175680   390.186880   \n",
      "\n",
      "           fmrg,h [R01]        fmrg,h [R02]        fmrg,h [R03]  \\\n",
      "0    1.3155601892343458  1.3278391719613565  1.3209092827007065   \n",
      "1     1.406883074374398    1.41247012388443  1.4061680872895188   \n",
      "2     1.393459930506707   1.392638048391415  1.3923014508898517   \n",
      "3    1.4210762322880424  1.4154827816703406  1.4189547105344054   \n",
      "4    1.4405016410654734  1.4412109059542777  1.4360854404755754   \n",
      "..                  ...                 ...                 ...   \n",
      "358                   -                   -                   -   \n",
      "359                   -                   -                   -   \n",
      "360                   -                   -                   -   \n",
      "361                   -                   -                   -   \n",
      "362                   -                   -                   -   \n",
      "\n",
      "        fmrg,psi4 [R01]     fmrg,psi4 [R02]  ...       A_max,h [R03]  \\\n",
      "0    1.7528837479340973   1.769503257667598  ...  0.0401642466962603   \n",
      "1     1.902664882563004  1.9667136151945128  ...  0.0193926493172228   \n",
      "2    1.8708347318035052  1.8736547330265367  ...  0.0389949154268471   \n",
      "3    1.9569558861054053   1.863499477987057  ...  0.0100792355548425   \n",
      "4    1.9848330820399536  2.0146514565699154  ...  0.0017213959917768   \n",
      "..                  ...                 ...  ...                 ...   \n",
      "358                   -                   -  ...                   -   \n",
      "359                   -                   -  ...                   -   \n",
      "360                   -                   -  ...                   -   \n",
      "361                   -                   -  ...                   -   \n",
      "362                   -                   -  ...                   -   \n",
      "\n",
      "           A_max,psi4 [R01]        A_max,psi4 [R02]        A_max,psi4 [R03]  \\\n",
      "0     9.339813999641496e-07   7.920480584914946e-07    9.62939654625779e-07   \n",
      "1    1.3242278973358122e-06  1.4282269883972006e-06  1.3058789557252976e-06   \n",
      "2    1.3627720974802474e-06  1.3094633026514731e-06   1.294808049543692e-06   \n",
      "3    1.4835401465671392e-06  1.4437218749239003e-06  1.5262604196756231e-06   \n",
      "4    1.5507230319733887e-06  1.7378774451839694e-06  1.7709974682595008e-06   \n",
      "..                      ...                     ...                     ...   \n",
      "358                       -                       -                       -   \n",
      "359                       -                       -                       -   \n",
      "360                       -                       -                       -   \n",
      "361                       -                       -                       -   \n",
      "362                       -                       -                       -   \n",
      "\n",
      "         t_fmax,h [R01]      t_fmax,h [R02]      t_fmax,h [R03]  \\\n",
      "0    0.7578515430000081  0.7543512899999953  0.7599979709999971   \n",
      "1    0.7473458609999923  0.7478430840000101   0.742846238999995   \n",
      "2    0.7068246480000084  0.7036246979999987  0.7031865509999946   \n",
      "3    0.6955214400000074  0.6994352250000091  0.6959398949999951   \n",
      "4    0.6914796570000021  0.6839770050000027  0.6853505220000002   \n",
      "..                  ...                 ...                 ...   \n",
      "358                   -                   -                   -   \n",
      "359                   -                   -                   -   \n",
      "360                   -                   -                   -   \n",
      "361                   -                   -                   -   \n",
      "362                   -                   -                   -   \n",
      "\n",
      "      t_fmax,psi4 [R01]   t_fmax,psi4 [R02]   t_fmax,psi4 [R03]  \n",
      "0    0.4562144100000012  0.4604137290000025  0.5327424450000038  \n",
      "1    0.4081856219999906  0.3927815549999991  0.4898729609999961  \n",
      "2    0.4126950899999997  0.3953858220000015  0.4577159250000022  \n",
      "3    0.3976504019999964  0.4476385440000001  0.3836100059999978  \n",
      "4    0.4234715369999975  0.3374962649999986  0.3289203989999976  \n",
      "..                  ...                 ...                 ...  \n",
      "358                   -                   -                   -  \n",
      "359                   -                   -                   -  \n",
      "360                   -                   -                   -  \n",
      "361                   -                   -                   -  \n",
      "362                   -                   -                   -  \n",
      "\n",
      "[363 rows x 41 columns]\n"
     ]
    }
   ],
   "source": [
    "test = pd.read_csv('./Summary_Data/V2_All_Codes_Summary.txt', sep='\\t')\n",
    "print(test)"
   ]
  },
  {
   "cell_type": "code",
   "execution_count": 37,
   "id": "226e0ad5",
   "metadata": {},
   "outputs": [],
   "source": [
    "df.to_excel('./Summary_Data/V2_All_Codes_Summary.xlsx', index=False)"
   ]
  }
 ],
 "metadata": {
  "kernelspec": {
   "display_name": "Python 3 (ipykernel)",
   "language": "python",
   "name": "python3"
  },
  "language_info": {
   "codemirror_mode": {
    "name": "ipython",
    "version": 3
   },
   "file_extension": ".py",
   "mimetype": "text/x-python",
   "name": "python",
   "nbconvert_exporter": "python",
   "pygments_lexer": "ipython3",
   "version": "3.12.2"
  }
 },
 "nbformat": 4,
 "nbformat_minor": 5
}
